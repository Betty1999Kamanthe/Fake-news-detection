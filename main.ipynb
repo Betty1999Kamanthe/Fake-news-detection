{
 "cells": [
  {
   "cell_type": "code",
   "execution_count": 2,
   "metadata": {},
   "outputs": [],
   "source": [
    "import numpy as np\n",
    "import pandas as pd\n",
    "import itertools\n",
    "from sklearn. model_selection import train_test_split\n",
    "from sklearn.feature_extraction.text import TfidfVectorizer\n",
    "from sklearn.linear_model import PassiveAggressiveClassifier\n",
    "from sklearn.metrics import accuracy_score,confusion_matrix"
   ]
  },
  {
   "cell_type": "code",
   "execution_count": 4,
   "metadata": {},
   "outputs": [],
   "source": [
    "data_df = pd.read_csv('news.csv')"
   ]
  },
  {
   "cell_type": "code",
   "execution_count": 8,
   "metadata": {},
   "outputs": [
    {
     "name": "stdout",
     "output_type": "stream",
     "text": [
      "<class 'pandas.core.frame.DataFrame'>\n",
      "RangeIndex: 6335 entries, 0 to 6334\n",
      "Data columns (total 4 columns):\n",
      "Unnamed: 0    6335 non-null int64\n",
      "title         6335 non-null object\n",
      "text          6335 non-null object\n",
      "label         6335 non-null object\n",
      "dtypes: int64(1), object(3)\n",
      "memory usage: 198.1+ KB\n"
     ]
    },
    {
     "data": {
      "text/html": [
       "<div>\n",
       "<style scoped>\n",
       "    .dataframe tbody tr th:only-of-type {\n",
       "        vertical-align: middle;\n",
       "    }\n",
       "\n",
       "    .dataframe tbody tr th {\n",
       "        vertical-align: top;\n",
       "    }\n",
       "\n",
       "    .dataframe thead th {\n",
       "        text-align: right;\n",
       "    }\n",
       "</style>\n",
       "<table border=\"1\" class=\"dataframe\">\n",
       "  <thead>\n",
       "    <tr style=\"text-align: right;\">\n",
       "      <th></th>\n",
       "      <th>Unnamed: 0</th>\n",
       "      <th>title</th>\n",
       "      <th>text</th>\n",
       "      <th>label</th>\n",
       "    </tr>\n",
       "  </thead>\n",
       "  <tbody>\n",
       "    <tr>\n",
       "      <td>2985</td>\n",
       "      <td>6881</td>\n",
       "      <td>Voting is the Problem. Here’s the Solution.</td>\n",
       "      <td>CorbettReport.com November 8, 2016 \\nIn Dougla...</td>\n",
       "      <td>FAKE</td>\n",
       "    </tr>\n",
       "    <tr>\n",
       "      <td>3771</td>\n",
       "      <td>1148</td>\n",
       "      <td>Rivals pile on Trump in Republican candidates’...</td>\n",
       "      <td>The calamity brought upon the Republican Party...</td>\n",
       "      <td>REAL</td>\n",
       "    </tr>\n",
       "    <tr>\n",
       "      <td>2049</td>\n",
       "      <td>2971</td>\n",
       "      <td>Ex-military intel officer says White House del...</td>\n",
       "      <td>A former military intelligence officer claimed...</td>\n",
       "      <td>REAL</td>\n",
       "    </tr>\n",
       "    <tr>\n",
       "      <td>6261</td>\n",
       "      <td>5454</td>\n",
       "      <td>Assange Destroys Hillary Clinton In His Most P...</td>\n",
       "      <td>Last week, Julian Assange, Editor-In-Chief of ...</td>\n",
       "      <td>FAKE</td>\n",
       "    </tr>\n",
       "    <tr>\n",
       "      <td>1979</td>\n",
       "      <td>3871</td>\n",
       "      <td>Obama to Try to Allay Gulf Nation Leaders' Fea...</td>\n",
       "      <td>Leaders of Gulf nations unnerved by Washington...</td>\n",
       "      <td>REAL</td>\n",
       "    </tr>\n",
       "    <tr>\n",
       "      <td>722</td>\n",
       "      <td>9613</td>\n",
       "      <td>This is What Will Happen to Mosul After ISIS i...</td>\n",
       "      <td>Email \\nI visited Mosul on the day it fell to ...</td>\n",
       "      <td>FAKE</td>\n",
       "    </tr>\n",
       "    <tr>\n",
       "      <td>5408</td>\n",
       "      <td>2630</td>\n",
       "      <td>Obama Will Not Meet with Netanyahu During Trip...</td>\n",
       "      <td>President Barack Obama will not meet with Isra...</td>\n",
       "      <td>REAL</td>\n",
       "    </tr>\n",
       "    <tr>\n",
       "      <td>3097</td>\n",
       "      <td>10057</td>\n",
       "      <td>How the election battle shapes up</td>\n",
       "      <td>1 Comment on \"How the election battle shapes u...</td>\n",
       "      <td>FAKE</td>\n",
       "    </tr>\n",
       "    <tr>\n",
       "      <td>5011</td>\n",
       "      <td>5548</td>\n",
       "      <td>Millennials ‘Search for Truth’ on Election but...</td>\n",
       "      <td>Millennials ‘Search for Truth’ on Election but...</td>\n",
       "      <td>FAKE</td>\n",
       "    </tr>\n",
       "    <tr>\n",
       "      <td>2371</td>\n",
       "      <td>1690</td>\n",
       "      <td>Lincoln Chafee Ends His Presidential Campaign</td>\n",
       "      <td>Former Rhode Island Gov. Lincoln Chafee ended ...</td>\n",
       "      <td>REAL</td>\n",
       "    </tr>\n",
       "  </tbody>\n",
       "</table>\n",
       "</div>"
      ],
      "text/plain": [
       "      Unnamed: 0                                              title  \\\n",
       "2985        6881        Voting is the Problem. Here’s the Solution.   \n",
       "3771        1148  Rivals pile on Trump in Republican candidates’...   \n",
       "2049        2971  Ex-military intel officer says White House del...   \n",
       "6261        5454  Assange Destroys Hillary Clinton In His Most P...   \n",
       "1979        3871  Obama to Try to Allay Gulf Nation Leaders' Fea...   \n",
       "722         9613  This is What Will Happen to Mosul After ISIS i...   \n",
       "5408        2630  Obama Will Not Meet with Netanyahu During Trip...   \n",
       "3097       10057                  How the election battle shapes up   \n",
       "5011        5548  Millennials ‘Search for Truth’ on Election but...   \n",
       "2371        1690      Lincoln Chafee Ends His Presidential Campaign   \n",
       "\n",
       "                                                   text label  \n",
       "2985  CorbettReport.com November 8, 2016 \\nIn Dougla...  FAKE  \n",
       "3771  The calamity brought upon the Republican Party...  REAL  \n",
       "2049  A former military intelligence officer claimed...  REAL  \n",
       "6261  Last week, Julian Assange, Editor-In-Chief of ...  FAKE  \n",
       "1979  Leaders of Gulf nations unnerved by Washington...  REAL  \n",
       "722   Email \\nI visited Mosul on the day it fell to ...  FAKE  \n",
       "5408  President Barack Obama will not meet with Isra...  REAL  \n",
       "3097  1 Comment on \"How the election battle shapes u...  FAKE  \n",
       "5011  Millennials ‘Search for Truth’ on Election but...  FAKE  \n",
       "2371  Former Rhode Island Gov. Lincoln Chafee ended ...  REAL  "
      ]
     },
     "execution_count": 8,
     "metadata": {},
     "output_type": "execute_result"
    }
   ],
   "source": [
    "data_df.info()\n",
    "data_df.sample(10)"
   ]
  },
  {
   "cell_type": "code",
   "execution_count": 9,
   "metadata": {},
   "outputs": [],
   "source": [
    "label_df = data_df.label"
   ]
  },
  {
   "cell_type": "code",
   "execution_count": 10,
   "metadata": {},
   "outputs": [
    {
     "data": {
      "text/plain": [
       "4433    FAKE\n",
       "2879    FAKE\n",
       "2105    REAL\n",
       "2759    REAL\n",
       "1809    FAKE\n",
       "2146    REAL\n",
       "3899    FAKE\n",
       "1041    FAKE\n",
       "652     FAKE\n",
       "4830    FAKE\n",
       "Name: label, dtype: object"
      ]
     },
     "execution_count": 10,
     "metadata": {},
     "output_type": "execute_result"
    }
   ],
   "source": [
    "label_df.sample(10)"
   ]
  },
  {
   "cell_type": "code",
   "execution_count": 11,
   "metadata": {},
   "outputs": [],
   "source": [
    "x_train,x_test,y_train,y_test = train_test_split(data_df['text'],label_df, test_size = 0.3, random_state = 7)"
   ]
  },
  {
   "cell_type": "code",
   "execution_count": 12,
   "metadata": {},
   "outputs": [],
   "source": [
    "#fit and transform the vectorizer on the train set, and transform the vectorizer on the test set.\n",
    "tf_idfvectorizer = TfidfVectorizer(stop_words = 'english', max_df = 0.7)\n",
    "tfidf_train = tf_idfvectorizer.fit_transform(x_train)\n",
    "tfidf_test = tf_idfvectorizer.transform(x_test)"
   ]
  },
  {
   "cell_type": "code",
   "execution_count": 13,
   "metadata": {},
   "outputs": [
    {
     "data": {
      "text/plain": [
       "PassiveAggressiveClassifier(C=1.0, average=False, class_weight=None,\n",
       "                            early_stopping=False, fit_intercept=True,\n",
       "                            loss='hinge', max_iter=50, n_iter_no_change=5,\n",
       "                            n_jobs=None, random_state=None, shuffle=True,\n",
       "                            tol=0.001, validation_fraction=0.1, verbose=0,\n",
       "                            warm_start=False)"
      ]
     },
     "execution_count": 13,
     "metadata": {},
     "output_type": "execute_result"
    }
   ],
   "source": [
    "pac = PassiveAggressiveClassifier(max_iter = 50)\n",
    "pac.fit(tfidf_train,y_train)"
   ]
  },
  {
   "cell_type": "code",
   "execution_count": 14,
   "metadata": {},
   "outputs": [
    {
     "name": "stdout",
     "output_type": "stream",
     "text": [
      "Accuracy: 92.69%\n"
     ]
    }
   ],
   "source": [
    "y_pred = pac.predict(tfidf_test)\n",
    "score = accuracy_score(y_test,y_pred)\n",
    "print(f'Accuracy: {round(score*100,2)}%')"
   ]
  },
  {
   "cell_type": "code",
   "execution_count": null,
   "metadata": {},
   "outputs": [],
   "source": []
  }
 ],
 "metadata": {
  "kernelspec": {
   "display_name": "Python 3",
   "language": "python",
   "name": "python3"
  },
  "language_info": {
   "codemirror_mode": {
    "name": "ipython",
    "version": 3
   },
   "file_extension": ".py",
   "mimetype": "text/x-python",
   "name": "python",
   "nbconvert_exporter": "python",
   "pygments_lexer": "ipython3",
   "version": "3.7.4"
  }
 },
 "nbformat": 4,
 "nbformat_minor": 2
}
